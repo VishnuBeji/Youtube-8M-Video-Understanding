{
 "cells": [
  {
   "cell_type": "code",
   "execution_count": 4,
   "metadata": {
    "colab": {
     "base_uri": "https://localhost:8080/",
     "height": 351
    },
    "id": "loX3iKP48v_k",
    "outputId": "1b48576b-4edc-4e5a-ec97-7afd7aa6fc0d"
   },
   "outputs": [],
   "source": [
    "import numpy as np\n",
    "import re\n",
    "import requests\n",
    "\n",
    "import ipywidgets as widgets\n",
    "from IPython.display import display, HTML, YouTubeVideo, clear_output\n",
    "import json\n",
    "import time\n",
    "\n",
    "from pytube import YouTube"
   ]
  },
  {
   "cell_type": "code",
   "execution_count": 5,
   "metadata": {
    "id": "LNuUnSap83WZ"
   },
   "outputs": [],
   "source": [
    "def fetch_url(vid_id):\n",
    "  # API for fetching url\n",
    "  request_url = \"http://data.yt8m.org/2/j/i/\" + vid_id[:2] + \"/\" + vid_id + \".js\"\n",
    "  response = requests.get(request_url)\n",
    "\n",
    "  # Check if the request was successful (status code 200)\n",
    "  if response.status_code == 200:\n",
    "      # Use regular expressions to extract both video IDs\n",
    "      response_string = response.content.decode('utf8')\n",
    "      return re.findall('\\\"(.*?)\\\"', response_string.split(',')[1])[0]\n",
    "  else:\n",
    "      print(f\"Failed to retrieve data. Status code: {response.status_code}\")\n",
    "  return"
   ]
  },
  {
   "cell_type": "code",
   "execution_count": 6,
   "metadata": {
    "id": "2U7EWc4n89yQ"
   },
   "outputs": [],
   "source": [
    "# Specify the path to your JSON file\n",
    "json_file_path = \"data/predictions.json\"\n",
    "\n",
    "# Read the JSON data from the file\n",
    "with open(json_file_path, 'r') as json_file:\n",
    "    json_data = json.load(json_file)\n",
    "\n",
    "# Now, json_data is a Python dictionary\n",
    "# print(json_data)"
   ]
  },
  {
   "cell_type": "code",
   "execution_count": 7,
   "metadata": {
    "id": "hLXK-uTK9ALI"
   },
   "outputs": [],
   "source": [
    "def generate_timestamps(step, n_segments):\n",
    "    timestamps = []\n",
    "    current = 0\n",
    "\n",
    "    for i in range(n_segments):\n",
    "        timestamps.append(np.round(current, 3))\n",
    "        current += step\n",
    "\n",
    "    return timestamps\n",
    "\n",
    "# # Example: Generate a series starting from 0 with a constant addition of 2, up to 10\n",
    "# result_series = generate_timestamps(309/len(json_data[id]), len(json_data[id]))\n",
    "# print(len(json_data[id]))\n"
   ]
  },
  {
   "cell_type": "code",
   "execution_count": 43,
   "metadata": {
    "id": "r-hra5ZS9GMP"
   },
   "outputs": [],
   "source": [
    "def visualize(json_data, id):\n",
    "    # Your YouTube video ID\n",
    "    video_id = fetch_url(id)\n",
    "    video_url = \"https://www.youtube.com/watch?v=\" + video_id\n",
    "    \n",
    "    # Create an HTML widget to embed the YouTube video\n",
    "    video_html = f'<iframe width=\"560\" height=\"315\" src=\"https://www.youtube.com/embed/{video_id}\" frameborder=\"0\" allowfullscreen></iframe>'\n",
    "    video_widget = widgets.HTML(value=video_html)\n",
    "    \n",
    "    # List of items to display on the timeline\n",
    "    captions = []\n",
    "    for i in range(len(json_data[id])):\n",
    "      s = \"\"\n",
    "      for item in json_data[id][i]:\n",
    "        s += item[0] + \": \" + str(np.round(item[1],3))\n",
    "        s += \"<br>\"\n",
    "      captions.append(s)\n",
    "    \n",
    "    # Get the total duration of the YouTube video (you can fetch this dynamically using the YouTube API)\n",
    "    total_duration = YouTube(video_url).length #YouTubeVideo(video_id).duration\n",
    "    segment_length = total_duration/len(json_data[id])\n",
    "\n",
    "    print(total_duration)\n",
    "    # Calculate the timestamp intervals\n",
    "    timestamp_intervals = generate_timestamps(total_duration/len(json_data[id]), len(json_data[id]))\n",
    "    \n",
    "    # Create an HTML widget for displaying list items\n",
    "    output_widget = widgets.HTML(value=\"\")\n",
    "    \n",
    "    # Display the widgets\n",
    "    display(video_widget)\n",
    "    time.sleep(2)\n",
    "    display(output_widget)\n",
    "    \n",
    "    # Display list items at the corresponding timestamps\n",
    "    for i, timestamp in enumerate(timestamp_intervals[:-1]):\n",
    "        clear_output(wait=True)\n",
    "        time_min= str(int(timestamp/60)).zfill(2)\n",
    "        time_sec= str(int(timestamp%60)).zfill(2)\n",
    "        time_milsec = str(int(100*np.round((timestamp%60-int(timestamp%60)),2))).zfill(2)\n",
    "        output_widget.value = f\"Time: {time_min}:{time_sec}:{time_milsec} <br>{captions[i]}\"\n",
    "        time.sleep(timestamp_intervals[i + 1] - timestamp)\n",
    "    \n",
    "    # Clear the final output\n",
    "    clear_output(wait=True)\n"
   ]
  },
  {
   "cell_type": "code",
   "execution_count": 46,
   "metadata": {},
   "outputs": [
    {
     "name": "stdout",
     "output_type": "stream",
     "text": [
      "288\n"
     ]
    },
    {
     "data": {
      "application/vnd.jupyter.widget-view+json": {
       "model_id": "2dc47f736cfd4065a7acc06ae3832619",
       "version_major": 2,
       "version_minor": 0
      },
      "text/plain": [
       "HTML(value='<iframe width=\"560\" height=\"315\" src=\"https://www.youtube.com/embed/CXg4IMG3e7k\" frameborder=\"0\" a…"
      ]
     },
     "metadata": {},
     "output_type": "display_data"
    },
    {
     "data": {
      "application/vnd.jupyter.widget-view+json": {
       "model_id": "478ae7e5d87a4f918d42b17e98572179",
       "version_major": 2,
       "version_minor": 0
      },
      "text/plain": [
       "HTML(value='')"
      ]
     },
     "metadata": {},
     "output_type": "display_data"
    }
   ],
   "source": [
    "visualize(json_data, 'lKbF')"
   ]
  },
  {
   "cell_type": "code",
   "execution_count": null,
   "metadata": {},
   "outputs": [],
   "source": []
  },
  {
   "cell_type": "code",
   "execution_count": 17,
   "metadata": {},
   "outputs": [
    {
     "name": "stdout",
     "output_type": "stream",
     "text": [
      "['lKbF', 'HebF', 'GkbF', 'q2bF', 'aUbF', 'A9bF', '52bF', 'gNbF', '6ZbF', 'rubF', 'UqbF', 'ATbF', '3lbF', 'UGbF', 'oJbF', 'exbF', 'CFbF', 'CsbF', 'pUbF', 'DLbF', '24bF', 'abbF', 'sEbF', 'gZbF', 'osbF', 'AZbF', 'qhbF', 'q9bF', 'YpbF', '9rbF', 'p8bF', 'yBbF', 'gkbF', 'bHbF', 'kobF', '2jbF', 'XdbF', 'HcbF', 'vCbF', 'WmbF', 'X8bF', 'qjbF', 'gYbF', 'UbbF', '4rbF', 'GfbF', 'ztbF', 't7bF', 'BybF', 'a0bF', 'XzbF', '6mbF', 'LPbF', 'NgbF', 'dnbF', 'TTbF', 'iBbF', 'BkbF', 'sIbF', 'YUbF', 'xmbF', 'wNbF', 'GgbF', '7ybF', 'LFbF', 'zsbF', 'mxbF', 'gnbF', 'W0bF', 'aibF', 'SWbF', 'eQbF', 'VYbF', 'LibF', 'MRbF', 'kpbF', 'LCbF', 'XibF', 'PnbF', 'u8bF', 'g0bF', 'DpbF', 'PvbF', 'ubbF', '6UbF', 'jabF', 'NIbF', 'UvbF', 'jgbF', 'MGbF', 'mcbF', 'EQbF', 'ijbF', 'zIbF', '8wbF', 'L5bF', '2ObF', 'xYbF', 'FAbF', 'lSbF', 'ABbF', 'NzbF', 'dPbF', 'vybF', 'dDbF', 'z1bF', 'upbF', 'SqbF', 'ilbF', 'D1bF', 'wkbF', 'eibF', 'yxbF', 'SebF', 'NLbF', 'RmbF', '6EbF', 'YbbF', 'gLbF', 'BpbF', 'BxbF', 'JFbF', '1cbF', '84bF', 'XabF', 'mXbF', 'a1bF', 'YKbF', 'IDbF', 'qDbF', '7IbF', 'XwbF', 'PFbF', 'BqbF', 'MVbF', 'WDbF', 'VfbF', '9mbF', 'jcbF', 'WibF', 'OpbF', 'WwbF', 'VubF', 'CxbF', 'ajbF', '1vbF', 'k2bF', 'FCbF', 'AbbF', 'qQbF', '6bbF', 'XfbF', 'sGbF', 'h7bF', 'lDbF', 'z4bF', 'BabF', 'brbF', 'GWbF', 'BFbF', 'oybF', 'eEbF', 'ScbF', 'Z7bF', '2zbF', 'R2bF', 'BhbF', 'pObF', 'dbbF', 'JHbF', 'VkbF', '5cbF', 'zUbF', 'dNbF', 'vebF', 'i7bF', 'U9bF', 'gJbF', 'OJbF', 'CNbF', 'ZdbF', 'jKbF', 'L8bF', '1DbF', 'UEbF', 't6bF', 'ZabF', 'hAbF', 'CrbF', '5xbF', 'rXbF', 'T8bF', 'gybF', 'jYbF', 'uxbF', 'ZzbF', 'AGbF', '3LbF', '8cbF', 'IqbF', 'zubF', '21bF', 'tVbF', '3HbF', 'GmbF', 'IrbF', 'e2bF', 'SGbF', 'rGbF', '7obF', '9PbF', 'lCbF', 'oYbF', 'oebF', 'gjbF', '7EbF', 'isbF', 'qxbF', 'QIbF', 'jqbF', 'AdbF', 'MSbF', '8ebF', 'qRbF', 'cvbF', 'EcbF', 'OlbF', 'aPbF', 'vkbF', 'RKbF', 'T0bF', 'ZZbF', 'QFbF', 'a7bF', 'nHbF', 'YRbF', 'fwbF', 'eqbF', 'vQbF', 'AXbF', 'rDbF', '69bF', 'IPbF', '2wbF', 'cwbF', 'PcbF', 'X1bF', 'F2bF', 'CtbF', 'hMbF', '7dbF', 'nsbF', 'fnbF', 'bybF', 'T5bF', '3cbF', 'QLbF', 'wjbF', 'sfbF', '1AbF', 'RWbF', '8nbF', 'SCbF', '59bF', 'P2bF', 'yYbF', 'JcbF', 'O2bF', 'wTbF', 'S9bF', '5WbF', '5ybF', 'm0bF', 'gKbF', 'MtbF', 'KZbF', 'x2bF', 'KhbF', 'iNbF', 'DkbF', 'XDbF', 'LwbF', 'fybF', 'fHbF', '89bF', '9lbF', 'mJbF', 'vcbF', '77bF', 'JjbF', 'y0bF', '4zbF', 'lTbF', '4CbF', 'vjbF', 'tebF', 'i8bF', 'rFbF', 'RbbF', 'iibF', 'p5bF', '8ZbF', 'XpbF', '4ibF', 'xubF', 'YfbF', 'pcbF', 'STbF', 'rbbF', '4gbF', 'PjbF', '71bF', 'lwbF', 'dtbF', 'wobF', 'fxbF', 'dGbF', 'UzbF', 'JEbF', 'gMbF', '6YbF', 'qMbF', 'K6bF', 'OubF', 'v7bF', '2TbF', 'cObF', 'hqbF', '3kbF', 'wcbF', '3dbF', '7RbF', 'z8bF', 'UubF', 'mobF', 'oIbF', 'MpbF', '3QbF', 'dTbF', 'GUbF', 'eIbF', 'LRbF', 'MYbF', 'uzbF', 'g8bF', 'gVbF', 'HzbF', 'FMbF', '2UbF', 'sCbF', '4NbF', 'snbF', '8obF', 't0bF', 'PWbF', 'NxbF', 'xGbF', 'qBbF', 'F6bF', '7jbF', 'eXbF', 'ZubF', '9fbF', 'udbF', 'YTbF', 'lHbF', 'FIbF', '9IbF', 'zybF', 'bVbF', 'MJbF', 'fEbF', 'QTbF', 'QEbF', 'sRbF', 'k8bF', 'FlbF', 'lmbF', 'PIbF', 'vGbF', 'sdbF', 'SfbF', 'fJbF', 'yibF', 'ONbF', 'u2bF', 'mmbF', 'DTbF', 'z0bF', 'yIbF', 'PpbF', 'nKbF', 'XXbF', 'tabF', 'h4bF', 'SgbF', 'oAbF', 'DNbF', 'NabF', 'G1bF', 'WVbF', 'xUbF', 'JJbF', 'pmbF', 'hobF', 'FjbF', 'JVbF', 'KcbF', 'eFbF', 'GqbF', 'JhbF', '8ubF', '13bF', 'C7bF', 'BdbF', 'hrbF', 'asbF', 'cVbF', 'BwbF', 'PZbF', 'M7bF', 'xhbF', 'd9bF', 'LQbF', 'nUbF', '8qbF', 'gfbF', '5TbF', 'dJbF', '1hbF', 'qYbF', 'fSbF', '3PbF', '4GbF', '0NbF', 'FtbF', 'txbF', 'sFbF', 'xSbF', 'JpbF', 'hlbF', 'JrbF', '4MbF', 'g3bF', 'pFbF', '3mbF', 'tMbF', 'YvbF', 'oRbF', '1UbF', 'o7bF', 'AUbF', 'WbbF', '7sbF', 'FVbF', 'gdbF', 'I6bF', 'bWbF', 'xpbF', 'UsbF', 'r1bF', 'PXbF', 'bIbF', 'f8bF', 'swbF', '2ibF', 'OgbF', '9qbF', 'NXbF', 'q1bF', 'X2bF', 'rSbF', 'SzbF', '40bF', '3FbF', '1zbF', 'OcbF', 'FxbF', 'ozbF', 'SHbF', 'NdbF', 'JTbF', 'BMbF', 'EjbF', 'vPbF', 'CZbF', 'yebF', 'k7bF', '3XbF', 'mhbF', 'tHbF', 'AFbF', 'g1bF', '31bF', 'PhbF', '5kbF', 'ZPbF', 'WMbF', 'UHbF', 'AWbF', 'RrbF', 'TObF', 'PmbF', 'Z4bF', 'grbF', 'W5bF', 'MlbF', 'ZBbF', 'd8bF', 'DxbF', 'wSbF', 'lcbF', 'JsbF', 'CAbF', 'zMbF', 'rabF', 'tdbF', 'ycbF', 'cIbF', 'xHbF', 'ItbF', 'DEbF', 'TFbF', 'MPbF', 'NkbF', 'OdbF', 'fcbF', 'oCbF', 'q4bF', 'aHbF', 'zRbF', '7JbF', 'M6bF', 'EgbF', 'x1bF', 'SabF', '4xbF', 'uKbF', 'mgbF', 'F9bF', 'N7bF', 'l0bF', '16bF', 'GbbF', 'hUbF', '11bF', 'jAbF', 'UnbF', 'oobF', 'drbF', 'iobF', 'BPbF', 'HnbF', '0dbF', '9HbF', '00bF', 'RabF', 'r6bF', 'wVbF', 'K3bF', '5ObF', 'M1bF', '72bF', 'pKbF', 'FebF', '17bF', 'CObF', 'J1bF', '6tbF', 'f2bF', '5zbF', 'qLbF', 'xDbF', 'AobF', 'kybF', 'AzbF', 'wibF', 'fpbF', 'HrbF', 'f7bF', 'O3bF', 'vTbF', '8fbF', 'NpbF', '7FbF', 'HdbF', '4cbF', 'YLbF', 'HqbF', 'ULbF', 'EKbF', 'I0bF', 'D5bF', 'TtbF', 'kqbF', 'knbF', 'KUbF', 'QabF', 'p4bF', 'D3bF', 'TpbF', '2JbF', 'm9bF', 'Z1bF', 'C3bF', 'MjbF', 'jIbF', 'KWbF', 'qFbF', 'OrbF', 'aObF', 'i4bF', 'g9bF', 'vgbF', 'xFbF', 'oMbF', 'wCbF', 'AxbF', 'YXbF', 'tqbF', 'LNbF', 'unbF', 'QMbF', 'jDbF', 'fjbF', 'uibF', 'WLbF', 'nybF', 'LZbF', 'KBbF', 'dfbF', 'rObF', 'UXbF', 'rqbF', 'XHbF', 'xObF', 'lYbF', 'QpbF', 'qKbF', 'XxbF', 'cQbF', 'NjbF', '3RbF', '9sbF', 'PzbF', 'bgbF', 'aLbF', 'jpbF', 'NmbF', 'oSbF', '4hbF', 'zNbF', 'y3bF', 'nTbF', 'umbF', 'ldbF', 'cYbF', 'wubF', 'mCbF', 'zSbF', 'j5bF', 'rsbF', '0MbF', 'NMbF', 'iabF', 'hObF', 'L1bF', 'XTbF', 'xXbF', '44bF', 's8bF', 'aSbF', 'nQbF', 'WQbF', 'KtbF', 'h0bF', 'PSbF', 'G8bF', 'iSbF', 'k4bF', 'cobF', 'tlbF', 'UabF', 'VqbF', 'm2bF', '2RbF', 'aZbF', 'subF', 'FUbF', 'jMbF', 'hXbF', 'VXbF', 'u5bF', '1JbF', 'msbF', 'ecbF', '70bF', 'ibbF', '4jbF', 'GebF', 'EnbF', 'LIbF', 'ErbF', 'blbF', '0JbF', 'pjbF', 'QvbF', '5HbF', 'CmbF', 'aKbF', '5NbF', 'IhbF', 'XVbF', 'lBbF', 'wXbF', '5ZbF', 'GQbF', 'A2bF', 'AwbF', 'AhbF', 'ffbF', 'mAbF', '43bF', 'dybF', 'kHbF', 'KibF', 'ZJbF', 'uSbF', '0nbF', 'NfbF', 'QGbF', 'dFbF', 'RPbF', 'RvbF', 'jmbF', '80bF', 'zgbF', 'BubF', 'o0bF', 'zlbF', '83bF', 'XubF', 'fqbF', 'UpbF', 'RobF', 'SVbF', 'JLbF', 'LBbF', 'KMbF', 'nCbF', '2qbF', 'BZbF', 'fRbF', 'mkbF', 'zAbF', '6jbF', 'vVbF', 'aBbF', 'RjbF', 'hkbF', 'tNbF', 'yZbF', 'ZKbF', '5gbF', 'VJbF', '2xbF', 'NibF', 'XCbF', 'ALbF', 'hTbF', 'nRbF', 'GnbF', 'JGbF', 'RZbF', 'mUbF', 'CubF', 'mEbF', 'P4bF', 'TZbF', 'pLbF', 'cUbF', 'sYbF', '4kbF', 'VDbF', 'F0bF', 'xAbF', 'HTbF', 'IdbF', 'nBbF', 's5bF', 'oibF', 'jTbF', 'cPbF', 'S7bF', '7BbF', 'YsbF', 'uHbF', 'kibF', 'gEbF', 'bLbF', 'VebF', 'TjbF', 'tmbF', 'FHbF', 'KdbF', 'xBbF', 'GpbF', 'SlbF', 'QCbF', '2vbF', 'ambF', 'v5bF', 'CVbF', 'tvbF', '01bF', 'UrbF', 'cubF', 'UObF', 'RubF', 'cAbF', 'VHbF', 'hBbF', 'FsbF', 'pibF', '5QbF', 'CIbF', 'IZbF', 'n1bF', 'gUbF', 'xebF', 'QobF', 'dUbF', 'vxbF', 'IlbF', 'GAbF', 'esbF', 'pbbF', 'H1bF', '7xbF', 'gebF', '91bF', 'c1bF', 'AObF', 'oxbF', 'dBbF', '0QbF', '9DbF', '1xbF', 'ZUbF', 'N6bF', 'e7bF', 'VAbF', 'PfbF', 'VbbF', 'WXbF', '6NbF', '1HbF', 'CabF', 'cfbF', 'bJbF', 'HAbF', 'nkbF', 'DWbF', 'pzbF', 'nDbF', 'rcbF', 'OvbF', 'NubF', 's6bF', 'EobF', 'S5bF', 'iRbF', 'e6bF', 'LgbF', '38bF', '2obF', 'mNbF', '6ubF', 'jQbF', 'D6bF', 'JUbF', '0rbF', 'S6bF', 'w1bF', 'NEbF', 'uebF', 'VvbF', 'NYbF', 'CEbF', 'OqbF', 'j9bF', 'M3bF', 'mtbF', 'NQbF', 'jybF', 'KQbF', 'VzbF', '1VbF', 'ePbF', 'khbF', 'bwbF', 'ApbF', '47bF', 'k1bF', 'uMbF', 'SLbF', 'ExbF', 'IVbF', 'uCbF', 'YwbF', '4JbF', 'ENbF', '4fbF', 'IXbF', 'YkbF', 'vKbF', '2YbF', 'TEbF', 'uBbF', 'PLbF', 'HObF', 'v4bF', 'avbF', 'yobF', 'Z3bF', 'akbF', 'NAbF', 'nObF', 'VRbF', 'bPbF', 'mVbF', 'BXbF', 'JlbF', 'cRbF', 'xCbF', 'YBbF', 'SmbF', 'DKbF', 'fXbF', '5BbF', 'wgbF', 'xJbF', '9xbF', 'zpbF', 'oabF', 'zrbF', 'XFbF', 'NvbF', 'TMbF', 'rpbF', 'FSbF', '9NbF', 'aVbF', 'gobF', 'kcbF', 'prbF', '96bF', 'KSbF', 'C8bF', 'vXbF', 'EXbF', 'iFbF', 'H4bF', 'TKbF', 'ZfbF', '9abF', 'axbF', 'WtbF', '55bF', 'KwbF', 'GDbF', '7QbF', 'ezbF', 'ZcbF', 'BebF', 'GJbF', 'YgbF', 'qnbF', 'uFbF', 'LObF', '2dbF', 'HQbF', 'KXbF', 'A0bF', '3obF', 'nYbF', 'xibF', 'KTbF', 'PrbF', 'QebF', '8kbF', 'RVbF', 'DIbF', 'KgbF', 'fVbF', '3vbF', 'uXbF', 'xWbF', '7UbF', '9CbF', 'n8bF', 'HabF', 'BlbF', 'Z0bF', 'N1bF', '8DbF', 'ahbF', 'mfbF', 'BAbF', 'b9bF', 'ftbF', 'BibF', 'bobF', 'C6bF', 'NobF']\n"
     ]
    }
   ],
   "source": [
    "keys = list(json_data.keys())\n",
    "print(keys)"
   ]
  },
  {
   "cell_type": "code",
   "execution_count": null,
   "metadata": {},
   "outputs": [],
   "source": []
  }
 ],
 "metadata": {
  "colab": {
   "provenance": []
  },
  "kernelspec": {
   "display_name": "Python 3 (ipykernel)",
   "language": "python",
   "name": "python3"
  },
  "language_info": {
   "codemirror_mode": {
    "name": "ipython",
    "version": 3
   },
   "file_extension": ".py",
   "mimetype": "text/x-python",
   "name": "python",
   "nbconvert_exporter": "python",
   "pygments_lexer": "ipython3",
   "version": "3.9.6"
  }
 },
 "nbformat": 4,
 "nbformat_minor": 4
}
